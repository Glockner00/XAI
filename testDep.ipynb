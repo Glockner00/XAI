{
 "cells": [
  {
   "cell_type": "code",
   "execution_count": null,
   "id": "0a333c07-edaf-4185-b65c-fcf8515d5425",
   "metadata": {},
   "outputs": [],
   "source": [
    "##Test"
   ]
  }
 ],
 "metadata": {
  "kernelspec": {
   "display_name": "Python (xai-env)",
   "language": "python",
   "name": "xai-env"
  },
  "language_info": {
   "codemirror_mode": {
    "name": "ipython",
    "version": 3
   },
   "file_extension": ".py",
   "mimetype": "text/x-python",
   "name": "python",
   "nbconvert_exporter": "python",
   "pygments_lexer": "ipython3",
   "version": "3.9.18"
  }
 },
 "nbformat": 4,
 "nbformat_minor": 5
}
