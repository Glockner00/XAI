{
 "cells": [
  {
   "cell_type": "code",
   "execution_count": 1,
   "id": "0a333c07-edaf-4185-b65c-fcf8515d5425",
   "metadata": {},
   "outputs": [
    {
     "name": "stdout",
     "output_type": "stream",
     "text": [
      "Dependencies are working!\n"
     ]
    }
   ],
   "source": [
    "import matplotlib.pyplot as plt\n",
    "import pandas as pd\n",
    "import seaborn as sns\n",
    "import shap\n",
    "print(\"Dependencies are working!\")\n"
   ]
  },
  {
   "cell_type": "code",
   "execution_count": 2,
   "id": "914968bc-1ddb-4ea0-a5c9-ae1ebbb9ec57",
   "metadata": {},
   "outputs": [
    {
     "name": "stdout",
     "output_type": "stream",
     "text": [
      "PyTorch version: 2.5.1\n",
      "CUDA available: False\n",
      "Keras is working!\n",
      "TensorFlow version: 2.10.0\n"
     ]
    }
   ],
   "source": [
    "# Test PyTorch\n",
    "import torch\n",
    "print(\"PyTorch version:\", torch.__version__)\n",
    "print(\"CUDA available:\", torch.cuda.is_available())\n",
    "\n",
    "# Test Keras\n",
    "from tensorflow.keras.models import Sequential\n",
    "print(\"Keras is working!\")\n",
    "\n",
    "# Test TensorFlow\n",
    "import tensorflow as tf\n",
    "print(\"TensorFlow version:\", tf.__version__)\n"
   ]
  },
  {
   "cell_type": "code",
   "execution_count": 3,
   "id": "4b00348f-3b08-4974-87ff-789a9c02989b",
   "metadata": {},
   "outputs": [
    {
     "name": "stdout",
     "output_type": "stream",
     "text": [
      "Is TensorFlow using GPU?\n",
      "[]\n"
     ]
    }
   ],
   "source": [
    "print(\"Is TensorFlow using GPU?\")\n",
    "print(tf.config.list_physical_devices('GPU'))\n"
   ]
  },
  {
   "cell_type": "code",
   "execution_count": null,
   "id": "a0e44417-ecc6-4449-aa14-5192d75232a2",
   "metadata": {},
   "outputs": [],
   "source": []
  }
 ],
 "metadata": {
  "kernelspec": {
   "display_name": "Python (xai-env)",
   "language": "python",
   "name": "xai-env"
  },
  "language_info": {
   "codemirror_mode": {
    "name": "ipython",
    "version": 3
   },
   "file_extension": ".py",
   "mimetype": "text/x-python",
   "name": "python",
   "nbconvert_exporter": "python",
   "pygments_lexer": "ipython3",
   "version": "3.9.18"
  }
 },
 "nbformat": 4,
 "nbformat_minor": 5
}
